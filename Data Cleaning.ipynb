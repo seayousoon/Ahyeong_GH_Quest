{
 "cells": [
  {
   "cell_type": "code",
   "execution_count": 26,
   "metadata": {
    "scrolled": true
   },
   "outputs": [
    {
     "name": "stderr",
     "output_type": "stream",
     "text": [
      "[nltk_data] Downloading package wordnet to\n",
      "[nltk_data]     C:\\Users\\dkdud\\AppData\\Roaming\\nltk_data...\n",
      "[nltk_data]   Unzipping corpora\\wordnet.zip.\n"
     ]
    }
   ],
   "source": [
    "from nltk.corpus import wordnet\n",
    "\n",
    "def get_wordnet_pos(pos_tag):\n",
    "    if pos_tag.startswith('J'):\n",
    "        return wordnet.ADJ\n",
    "    elif pos_tag.startswith('V'):\n",
    "        return wordnet.VERB\n",
    "    elif pos_tag.startswith('N'):\n",
    "        return wordnet.NOUN\n",
    "    elif pos_tag.startswith('R'):\n",
    "        return wordnet.ADV\n",
    "    else:\n",
    "        return wordnet.NOUN\n",
    "import nltk\n",
    "nltk.download('wordnet')\n",
    "\n",
    "import string\n",
    "from nltk import pos_tag\n",
    "from nltk.corpus import stopwords\n",
    "from nltk.tokenize import WhitespaceTokenizer\n",
    "from nltk.stem import WordNetLemmatizer"
   ]
  },
  {
   "cell_type": "code",
   "execution_count": 56,
   "metadata": {},
   "outputs": [
    {
     "name": "stderr",
     "output_type": "stream",
     "text": [
      "[nltk_data] Downloading package punkt to\n",
      "[nltk_data]     C:\\Users\\dkdud\\AppData\\Roaming\\nltk_data...\n",
      "[nltk_data]   Package punkt is already up-to-date!\n"
     ]
    },
    {
     "data": {
      "text/plain": [
       "True"
      ]
     },
     "execution_count": 56,
     "metadata": {},
     "output_type": "execute_result"
    }
   ],
   "source": [
    "nltk.download('punkt')"
   ]
  },
  {
   "cell_type": "code",
   "execution_count": 19,
   "metadata": {},
   "outputs": [],
   "source": [
    "import pandas as pd"
   ]
  },
  {
   "cell_type": "code",
   "execution_count": 71,
   "metadata": {},
   "outputs": [],
   "source": [
    "ddp = pd.read_csv('ddp.csv')"
   ]
  },
  {
   "cell_type": "code",
   "execution_count": 60,
   "metadata": {},
   "outputs": [
    {
     "data": {
      "text/html": [
       "<div>\n",
       "<style scoped>\n",
       "    .dataframe tbody tr th:only-of-type {\n",
       "        vertical-align: middle;\n",
       "    }\n",
       "\n",
       "    .dataframe tbody tr th {\n",
       "        vertical-align: top;\n",
       "    }\n",
       "\n",
       "    .dataframe thead th {\n",
       "        text-align: right;\n",
       "    }\n",
       "</style>\n",
       "<table border=\"1\" class=\"dataframe\">\n",
       "  <thead>\n",
       "    <tr style=\"text-align: right;\">\n",
       "      <th></th>\n",
       "      <th>place_name</th>\n",
       "      <th>tagline</th>\n",
       "      <th>review_title</th>\n",
       "      <th>review_body</th>\n",
       "      <th>review_date</th>\n",
       "      <th>num_reviews_reviewer</th>\n",
       "      <th>reviewer_name</th>\n",
       "      <th>bubble_rating</th>\n",
       "    </tr>\n",
       "  </thead>\n",
       "  <tbody>\n",
       "    <tr>\n",
       "      <th>0</th>\n",
       "      <td>NaN</td>\n",
       "      <td>Awesome</td>\n",
       "      <td>Awesome</td>\n",
       "      <td>Beautiful structure.  I was so amazed how it w...</td>\n",
       "      <td>May 15, 2019</td>\n",
       "      <td>1</td>\n",
       "      <td>NaN</td>\n",
       "      <td>5</td>\n",
       "    </tr>\n",
       "    <tr>\n",
       "      <th>1</th>\n",
       "      <td>NaN</td>\n",
       "      <td>Great View!!</td>\n",
       "      <td>Great View!!</td>\n",
       "      <td>I came shopping here around Dongdaemun area, a...</td>\n",
       "      <td>May 13, 2019</td>\n",
       "      <td>44</td>\n",
       "      <td>NaN</td>\n",
       "      <td>4</td>\n",
       "    </tr>\n",
       "    <tr>\n",
       "      <th>2</th>\n",
       "      <td>NaN</td>\n",
       "      <td>Nice</td>\n",
       "      <td>Nice</td>\n",
       "      <td>Nice place for photo shoot. There are a lot of...</td>\n",
       "      <td>May 10, 2019</td>\n",
       "      <td>126</td>\n",
       "      <td>NaN</td>\n",
       "      <td>4</td>\n",
       "    </tr>\n",
       "    <tr>\n",
       "      <th>3</th>\n",
       "      <td>NaN</td>\n",
       "      <td>Of Curves and Elongated Structures</td>\n",
       "      <td>Of Curves and Elongated Structures</td>\n",
       "      <td>First time to visit DDP and was impressed with...</td>\n",
       "      <td>May 6, 2019</td>\n",
       "      <td>94</td>\n",
       "      <td>NaN</td>\n",
       "      <td>4</td>\n",
       "    </tr>\n",
       "    <tr>\n",
       "      <th>4</th>\n",
       "      <td>NaN</td>\n",
       "      <td>Flowing emptiness</td>\n",
       "      <td>Flowing emptiness</td>\n",
       "      <td>I do love design so, I was really looking forw...</td>\n",
       "      <td>May 5, 2019</td>\n",
       "      <td>36</td>\n",
       "      <td>NaN</td>\n",
       "      <td>3</td>\n",
       "    </tr>\n",
       "  </tbody>\n",
       "</table>\n",
       "</div>"
      ],
      "text/plain": [
       "   place_name                             tagline  \\\n",
       "0         NaN                             Awesome   \n",
       "1         NaN                        Great View!!   \n",
       "2         NaN                                Nice   \n",
       "3         NaN  Of Curves and Elongated Structures   \n",
       "4         NaN                   Flowing emptiness   \n",
       "\n",
       "                         review_title  \\\n",
       "0                             Awesome   \n",
       "1                        Great View!!   \n",
       "2                                Nice   \n",
       "3  Of Curves and Elongated Structures   \n",
       "4                   Flowing emptiness   \n",
       "\n",
       "                                         review_body   review_date  \\\n",
       "0  Beautiful structure.  I was so amazed how it w...  May 15, 2019   \n",
       "1  I came shopping here around Dongdaemun area, a...  May 13, 2019   \n",
       "2  Nice place for photo shoot. There are a lot of...  May 10, 2019   \n",
       "3  First time to visit DDP and was impressed with...   May 6, 2019   \n",
       "4  I do love design so, I was really looking forw...   May 5, 2019   \n",
       "\n",
       "   num_reviews_reviewer  reviewer_name  bubble_rating  \n",
       "0                     1            NaN              5  \n",
       "1                    44            NaN              4  \n",
       "2                   126            NaN              4  \n",
       "3                    94            NaN              4  \n",
       "4                    36            NaN              3  "
      ]
     },
     "execution_count": 60,
     "metadata": {},
     "output_type": "execute_result"
    }
   ],
   "source": [
    "ddp.head()"
   ]
  },
  {
   "cell_type": "code",
   "execution_count": 63,
   "metadata": {},
   "outputs": [],
   "source": [
    "def clean_text(text):\n",
    "    # lower text\n",
    "    text = text.lower()\n",
    "    # tokenize text and remove puncutation\n",
    "    text = [word.strip(string.punctuation) for word in text.split(\" \")]\n",
    "    # remove words that contain numbers\n",
    "    text = [word for word in text if not any(c.isdigit() for c in word)]\n",
    "    # remove stop words\n",
    "    stop = stopwords.words('english')\n",
    "    text = [x for x in text if x not in stop]\n",
    "    # remove empty tokens\n",
    "    text = [t for t in text if len(t) > 0]\n",
    "    # pos tag text\n",
    "    pos_tags = pos_tag(text)\n",
    "    # remove words with only one letter\n",
    "    text = [t for t in text if len(t) > 1]\n",
    "    # join all\n",
    "    text = \" \".join(text)\n",
    "    return(text)\n",
    "\n"
   ]
  },
  {
   "cell_type": "code",
   "execution_count": 72,
   "metadata": {},
   "outputs": [],
   "source": [
    "# clean text data\n",
    "ddp['review_body'] = ddp['review_body'].apply(lambda x: clean_text(x))"
   ]
  },
  {
   "cell_type": "code",
   "execution_count": 73,
   "metadata": {},
   "outputs": [
    {
     "name": "stdout",
     "output_type": "stream",
     "text": [
      "0      [beautiful, structure, amazed, done, see, one,...\n",
      "1      [came, shopping, around, dongdaemun, area, cam...\n",
      "2      [nice, place, photo, shoot, lot, points, photo...\n",
      "3      [first, time, visit, ddp, impressed, design, i...\n",
      "4      [love, design, really, looking, forward, visit...\n",
      "5      [dongdaemon, design, plaza, modern, architectu...\n",
      "6      [ideally, teenagers, love, shopping, shops, op...\n",
      "7      [visited, really, cold, still, many, people, a...\n",
      "8      [good, see, daylight, spectacular, night, led,...\n",
      "9      [like, architecture, interested, design, defin...\n",
      "10     [huge, design, greatness, glimpse, city, ’, s,...\n",
      "11     [find, exhibits, literally, zero, things, look...\n",
      "12     [generally, seoul, fine, architecturel, profil...\n",
      "13     [went, evening, food, art, fair, live, musical...\n",
      "14     [stumbled, upon, ddp, exiting, subway, station...\n",
      "15     [spectacular, architecture, design, impressive...\n",
      "16     [besides, great, amazing, architecture, thousa...\n",
      "17     [easy, access, wonderful, sight, behold, one, ...\n",
      "18     [love, beautiful, place, many, good, place, sh...\n",
      "19     [fashion, district, design, buildings, modern,...\n",
      "20     [worlds, largest, atypical, structure, archite...\n",
      "21     [design, plaza, unique, futuristic, exterior, ...\n",
      "22     [think, place, worthwhile, place, visit, seoul...\n",
      "23     [you, ’, re, modern, infrastructure, engineeri...\n",
      "24     [didn, ’, t, go, inside, suspect, even, impres...\n",
      "25     [wonderful, park, spend, afternoon, lots, thin...\n",
      "26     [use, exit, check, front, ddp, illuminated, ni...\n",
      "27     [designed, world, renowned, architect, zaha, h...\n",
      "28     [building, alone, worth, time, much, going, to...\n",
      "29     [nice, place, took, picture, check, facebook, ...\n",
      "                             ...                        \n",
      "858    [venue, evening, dark, great, architecture, be...\n",
      "859    [get, subway, ca, n't, miss, futuristic, build...\n",
      "860    [amazing, architeture, place, well, worth, vis...\n",
      "861    [dongdaemun, one, largest, shopping, districts...\n",
      "862    [looking, incredible, museum, exhibition, insi...\n",
      "863    [attractive, building, beautiful, lightings, n...\n",
      "864    [ddp, truly, great, space, beautiful, inside, ...\n",
      "865    [swooping, architecture, futuristic, building,...\n",
      "866    [futuristic, construction, enjoyed, walking, l...\n",
      "867    [first, architectural, marvel, designed, zaha,...\n",
      "868    [huge, structure, resembling, sleek, spaceship...\n",
      "869    [proof, min, joon, landed, seoul, well, defini...\n",
      "870    [found, really, affordable, stylish, items, hi...\n",
      "871    [looks, nice, much, else, planning, visit, are...\n",
      "872    [area, looks, new, small, ok, mall, inside, tr...\n",
      "873    [take, metro, line, exit, dongdaemun, history,...\n",
      "874    [mix, exhibition, hall, mall, museum, space, u...\n",
      "875    [husband, visited, ddp, last, month, enjoyed, ...\n",
      "876    [may, think, place, confusing, thought, great,...\n",
      "877                     [architecturally, awesome, ends]\n",
      "878      [visited, place, architect, friend, told, come]\n",
      "879    [get, place, big, curvy, building, attached, l...\n",
      "880    [hype, surrounding, ddp, star, architect, zaha...\n",
      "881    [visited, ddp, last, april, ,, ,and, stay, seo...\n",
      "882    [recently, opened, dongdaemun, across, shoppin...\n",
      "883    [went, dongdaemun, design, plaza, great, expec...\n",
      "884    [hype, surrounding, ddp, star, architect, zaha...\n",
      "885    [visited, ddp, last, april, ,, ,and, stay, seo...\n",
      "886    [recently, opened, dongdaemun, across, shoppin...\n",
      "887    [went, dongdaemun, design, plaza, great, expec...\n",
      "Name: review_body, Length: 888, dtype: object\n"
     ]
    }
   ],
   "source": [
    "ddp = ddp['review_body'].fillna(\"\").map(nltk.word_tokenize)\n",
    "print(ddp)"
   ]
  },
  {
   "cell_type": "code",
   "execution_count": 74,
   "metadata": {
    "scrolled": false
   },
   "outputs": [
    {
     "data": {
      "text/plain": [
       "0    [beautiful, structure, amazed, done, see, one,...\n",
       "1    [came, shopping, around, dongdaemun, area, cam...\n",
       "2    [nice, place, photo, shoot, lot, points, photo...\n",
       "3    [first, time, visit, ddp, impressed, design, i...\n",
       "4    [love, design, really, looking, forward, visit...\n",
       "Name: review_body, dtype: object"
      ]
     },
     "execution_count": 74,
     "metadata": {},
     "output_type": "execute_result"
    }
   ],
   "source": [
    "ddp.head()"
   ]
  },
  {
   "cell_type": "code",
   "execution_count": 78,
   "metadata": {},
   "outputs": [
    {
     "data": {
      "text/html": [
       "<div>\n",
       "<style scoped>\n",
       "    .dataframe tbody tr th:only-of-type {\n",
       "        vertical-align: middle;\n",
       "    }\n",
       "\n",
       "    .dataframe tbody tr th {\n",
       "        vertical-align: top;\n",
       "    }\n",
       "\n",
       "    .dataframe thead th {\n",
       "        text-align: right;\n",
       "    }\n",
       "</style>\n",
       "<table border=\"1\" class=\"dataframe\">\n",
       "  <thead>\n",
       "    <tr style=\"text-align: right;\">\n",
       "      <th></th>\n",
       "      <th>review_body</th>\n",
       "    </tr>\n",
       "  </thead>\n",
       "  <tbody>\n",
       "    <tr>\n",
       "      <th>0</th>\n",
       "      <td>[beautiful, structure, amazed, done, see, one,...</td>\n",
       "    </tr>\n",
       "    <tr>\n",
       "      <th>1</th>\n",
       "      <td>[came, shopping, around, dongdaemun, area, cam...</td>\n",
       "    </tr>\n",
       "    <tr>\n",
       "      <th>2</th>\n",
       "      <td>[nice, place, photo, shoot, lot, points, photo...</td>\n",
       "    </tr>\n",
       "    <tr>\n",
       "      <th>3</th>\n",
       "      <td>[first, time, visit, ddp, impressed, design, i...</td>\n",
       "    </tr>\n",
       "    <tr>\n",
       "      <th>4</th>\n",
       "      <td>[love, design, really, looking, forward, visit...</td>\n",
       "    </tr>\n",
       "  </tbody>\n",
       "</table>\n",
       "</div>"
      ],
      "text/plain": [
       "                                         review_body\n",
       "0  [beautiful, structure, amazed, done, see, one,...\n",
       "1  [came, shopping, around, dongdaemun, area, cam...\n",
       "2  [nice, place, photo, shoot, lot, points, photo...\n",
       "3  [first, time, visit, ddp, impressed, design, i...\n",
       "4  [love, design, really, looking, forward, visit..."
      ]
     },
     "execution_count": 78,
     "metadata": {},
     "output_type": "execute_result"
    }
   ],
   "source": [
    "ddp_cleaned = pd.DataFrame(ddp)\n",
    "ddp_cleaned.head()"
   ]
  },
  {
   "cell_type": "code",
   "execution_count": 77,
   "metadata": {
    "scrolled": false
   },
   "outputs": [],
   "source": [
    "ddp_cleaned.to_csv('ddp_cleaned.csv', index=False)"
   ]
  },
  {
   "cell_type": "code",
   "execution_count": 54,
   "metadata": {},
   "outputs": [],
   "source": [
    "namdaemun = pd.read_csv('namdaemun.csv')\n",
    "\n",
    "namdaemun = namdaemun['review_body'].apply(lambda x: clean_text(x))\n",
    "namdaemun_cleaned = pd.DataFrame(namdaemun)\n",
    "namdaemun_cleaned.to_csv('namdaemun_cleaned.csv', index=False)"
   ]
  },
  {
   "cell_type": "code",
   "execution_count": 55,
   "metadata": {},
   "outputs": [],
   "source": [
    "warmuseum = pd.read_csv('warmuseum.csv')\n",
    "\n",
    "warmuseum = warmuseum['review_body'].apply(lambda x: clean_text(x))\n",
    "warmuseum_cleaned = pd.DataFrame(warmuseum)\n",
    "warmuseum_cleaned.to_csv('warmuseum_cleaned.csv', index=False)"
   ]
  },
  {
   "cell_type": "code",
   "execution_count": null,
   "metadata": {},
   "outputs": [],
   "source": []
  }
 ],
 "metadata": {
  "kernelspec": {
   "display_name": "Python 3",
   "language": "python",
   "name": "python3"
  },
  "language_info": {
   "codemirror_mode": {
    "name": "ipython",
    "version": 3
   },
   "file_extension": ".py",
   "mimetype": "text/x-python",
   "name": "python",
   "nbconvert_exporter": "python",
   "pygments_lexer": "ipython3",
   "version": "3.7.1"
  }
 },
 "nbformat": 4,
 "nbformat_minor": 2
}
