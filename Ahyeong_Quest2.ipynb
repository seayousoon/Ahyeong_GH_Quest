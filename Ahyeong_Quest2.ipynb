{
 "cells": [
  {
   "cell_type": "markdown",
   "metadata": {},
   "source": [
    "Scipy 라이브러리를 활용해 함수 최적화해보기!\n",
    "다음의 2차원 cost function을 최소화하는 파라미터 값을 구해보세요"
   ]
  },
  {
   "cell_type": "code",
   "execution_count": 1,
   "metadata": {},
   "outputs": [],
   "source": [
    "import scipy.optimize as op\n",
    "import matplotlib.pyplot as plt\n",
    "import numpy as np"
   ]
  },
  {
   "cell_type": "code",
   "execution_count": 8,
   "metadata": {},
   "outputs": [],
   "source": [
    "def f1(x):\n",
    "    return (1-x[0])**2 + 100*(x[1]-x[0]**2)**2"
   ]
  },
  {
   "cell_type": "code",
   "execution_count": 14,
   "metadata": {},
   "outputs": [
    {
     "data": {
      "text/plain": [
       "      fun: 1.2747599056926497e-11\n",
       " hess_inv: array([[0.51801597, 1.03758278],\n",
       "       [1.03758278, 2.08339723]])\n",
       "      jac: array([-2.65984575e-05,  1.42642675e-05])\n",
       "  message: 'Desired error not necessarily achieved due to precision loss.'\n",
       "     nfev: 308\n",
       "      nit: 21\n",
       "     njev: 74\n",
       "   status: 2\n",
       "  success: False\n",
       "        x: array([0.99999649, 0.99999304])"
      ]
     },
     "execution_count": 14,
     "metadata": {},
     "output_type": "execute_result"
    }
   ],
   "source": [
    "initial_guess = (1,2)\n",
    "result = op.minimize(f1, initial_guess)\n",
    "result"
   ]
  }
 ],
 "metadata": {
  "kernelspec": {
   "display_name": "Python 3",
   "language": "python",
   "name": "python3"
  },
  "language_info": {
   "codemirror_mode": {
    "name": "ipython",
    "version": 3
   },
   "file_extension": ".py",
   "mimetype": "text/x-python",
   "name": "python",
   "nbconvert_exporter": "python",
   "pygments_lexer": "ipython3",
   "version": "3.7.1"
  }
 },
 "nbformat": 4,
 "nbformat_minor": 2
}
